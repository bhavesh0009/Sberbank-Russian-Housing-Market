{
 "cells": [
  {
   "cell_type": "code",
   "execution_count": 1,
   "metadata": {
    "collapsed": true
   },
   "outputs": [],
   "source": [
    "import numpy as np\n",
    "import pandas as pd\n",
    "import xgboost as xgb\n",
    "import matplotlib.pyplot as plt\n",
    "import re\n",
    "\n",
    "train = pd.read_csv(\"C:\\\\Users\\\\user\\\\AnacondaProjects\\\\Sberbank\\\\train.csv\", parse_dates=['timestamp'],index_col='id')\n",
    "y_train = train['price_doc']\n",
    "test =  pd.read_csv(\"C:\\\\Users\\\\user\\\\AnacondaProjects\\\\Sberbank\\\\test.csv\", parse_dates=['timestamp'],index_col='id')\n",
    "macro = pd.read_csv(\"C:\\\\Users\\\\user\\\\AnacondaProjects\\\\Sberbank\\\\macro.csv\", parse_dates=['timestamp'])\n",
    "fix = pd.read_excel('C:\\\\Users\\\\user\\\\AnacondaProjects\\\\Sberbank\\\\BAD_ADDRESS_FIX.xlsx').drop_duplicates('id').set_index('id') \n",
    "\n",
    "train.update(fix,overwrite=True)\n",
    "test.update(fix,overwrite=True)"
   ]
  },
  {
   "cell_type": "code",
   "execution_count": 2,
   "metadata": {
    "collapsed": true
   },
   "outputs": [],
   "source": [
    "train = train.reset_index()\n",
    "test = test.reset_index()"
   ]
  },
  {
   "cell_type": "code",
   "execution_count": 3,
   "metadata": {
    "collapsed": false
   },
   "outputs": [],
   "source": [
    "y_train = train['price_doc']\n",
    "id_test = test.id\n",
    "train.drop(['price_doc','id'], axis=1, inplace=True)\n",
    "test.drop(['id'], axis=1, inplace=True)"
   ]
  },
  {
   "cell_type": "code",
   "execution_count": 4,
   "metadata": {
    "collapsed": true
   },
   "outputs": [],
   "source": [
    "#selecting only important macro columns\n",
    "macro = macro[[\"timestamp\",\"balance_trade\",\"balance_trade_growth\",\"eurrub\",\"average_provision_of_build_contract\",\"micex_rgbi_tr\",\"micex_cbi_tr\",\"deposits_rate\",\"mortgage_value\",\"mortgage_rate\",\"income_per_cap\",\"rent_price_4+room_bus\",\"museum_visitis_per_100_cap\",\"apartment_build\"]]"
   ]
  },
  {
   "cell_type": "code",
   "execution_count": 5,
   "metadata": {
    "collapsed": true
   },
   "outputs": [],
   "source": [
    "# Build all_data = (train+test).join(macro)\n",
    "num_train = len(train)\n",
    "all_data = pd.concat([train, test])\n",
    "all_data = pd.merge(all_data,macro,how='left',on='timestamp')"
   ]
  },
  {
   "cell_type": "code",
   "execution_count": 6,
   "metadata": {
    "collapsed": true
   },
   "outputs": [],
   "source": [
    "# Add month-year\n",
    "month_year = (all_data.timestamp.dt.month + all_data.timestamp.dt.year * 100)\n",
    "month_year_cnt_map = month_year.value_counts().to_dict()\n",
    "all_data['month_year_cnt'] = month_year.map(month_year_cnt_map)\n",
    "\n",
    "# Add week-year count\n",
    "week_year = (all_data.timestamp.dt.weekofyear + all_data.timestamp.dt.year * 100)\n",
    "week_year_cnt_map = week_year.value_counts().to_dict()\n",
    "all_data['week_year_cnt'] = week_year.map(week_year_cnt_map)"
   ]
  },
  {
   "cell_type": "code",
   "execution_count": 7,
   "metadata": {
    "collapsed": true
   },
   "outputs": [],
   "source": [
    "# Creating Apartment Name Feature\n",
    "all_data['apartment_name'] = all_data.sub_area + all_data['metro_km_avto'].astype(str)"
   ]
  },
  {
   "cell_type": "code",
   "execution_count": 8,
   "metadata": {
    "collapsed": true
   },
   "outputs": [],
   "source": [
    "#cleaning of full_sq \n",
    "#Following code will fix those records where full_sq are abnormally high or low and life_sq are normal.\n",
    "all_data.loc[((all_data[\"full_sq\"]<=6) | (all_data[\"full_sq\"]>300)) & (all_data[\"life_sq\"]>=6) & (all_data[\"life_sq\"]<300) & ((all_data[\"full_sq\"]>= all_data[\"life_sq\"]*15) | ((all_data[\"full_sq\"]>=0) & (all_data[\"full_sq\"]<all_data[\"life_sq\"]))),\"full_sq\"]=all_data[((all_data[\"full_sq\"]<=6) | (all_data[\"full_sq\"]>300)) & (all_data[\"life_sq\"]>=6) & (all_data[\"life_sq\"]<300) & ((all_data[\"full_sq\"]>= all_data[\"life_sq\"]*15) | ((all_data[\"full_sq\"]>=0) & (all_data[\"full_sq\"]<all_data[\"life_sq\"])))].life_sq\n",
    "\n",
    "#based on apartment name feature fix abnormal high or low full_sq. Mode is ideal candidate here. but somehow it is not workign for me(I dont know how to code that :( )\n",
    "g_Apartment_col=all_data.groupby('apartment_name')['full_sq'].agg(['mean','median','count']).reset_index()\n",
    "g_Apartment_col.columns= ['apartment_name','full_sq_mean','full_sq_median','apartment_count'] \n",
    "all_data=all_data.merge(g_Apartment_col, how='left')\n",
    "all_data.loc[((all_data[\"full_sq\"]<=6) | (all_data[\"full_sq\"]>300)) & (all_data.apartment_count>3),\"full_sq\"]=all_data[((all_data[\"full_sq\"]<=6) | (all_data[\"full_sq\"]>300)) & (all_data.apartment_count>3)].full_sq_mean\n",
    "\n",
    "# we will drop median and mean but count considered as feature\n",
    "all_data.drop(\"full_sq_median\", axis=1, inplace=True)\n",
    "all_data.drop(\"full_sq_mean\", axis=1, inplace=True)\n",
    "\n",
    "# Remove timestamp column (may overfit the model in train)\n",
    "all_data.drop(['timestamp'], axis=1, inplace=True)"
   ]
  },
  {
   "cell_type": "code",
   "execution_count": 9,
   "metadata": {
    "collapsed": true
   },
   "outputs": [],
   "source": [
    "#very important cleaning now - price_doc\n",
    "train = all_data[:num_train]\n",
    "test  = all_data[num_train:]\n",
    "\n",
    "train = pd.concat((train,y_train),axis=1)\n",
    "train[\"prize_per_sqrmtr\"]=train.price_doc/train.full_sq\n",
    "\n",
    "# grouping by prize_per_sqrmtr\n",
    "g_Apartment_col=train.groupby('apartment_name')['prize_per_sqrmtr'].agg(['mean','std']).reset_index()\n",
    "g_Apartment_col.columns= ['apartment_name','pps_mean','pps_std'] \n",
    "train=train.merge(g_Apartment_col, how='left', on ='apartment_name')\n",
    "\n",
    "# change value if more than 4 sigma\n",
    "train.loc[(train.prize_per_sqrmtr > train.pps_mean + (4*train.pps_std)) | (train.prize_per_sqrmtr < train.pps_mean - (4*train.pps_std)),\"prize_per_sqrmtr\"]=train[(train.prize_per_sqrmtr > train.pps_mean + (4*train.pps_std)) | (train.prize_per_sqrmtr < train.pps_mean - (4*train.pps_std))].pps_mean"
   ]
  },
  {
   "cell_type": "code",
   "execution_count": 10,
   "metadata": {
    "collapsed": false
   },
   "outputs": [],
   "source": [
    "# If still some values doesnt seem correct, so clean it using sub_area\n",
    "g_Apartment_col=train.groupby('sub_area')['prize_per_sqrmtr'].agg(['mean']).reset_index()\n",
    "g_Apartment_col.columns= ['sub_area','sa_mean'] \n",
    "train=train.merge(g_Apartment_col, how='left', on='sub_area')\n",
    "# Change if out of range\n",
    "train.loc[ (train.prize_per_sqrmtr>=600000) | (train.prize_per_sqrmtr<=10000) ,\"prize_per_sqrmtr\"]= train[(train.prize_per_sqrmtr>=600000) | (train.prize_per_sqrmtr<=10000)].sa_mean\n"
   ]
  },
  {
   "cell_type": "code",
   "execution_count": 11,
   "metadata": {
    "collapsed": true
   },
   "outputs": [],
   "source": [
    "train[\"price_doc\"]=train.prize_per_sqrmtr*train.full_sq"
   ]
  },
  {
   "cell_type": "code",
   "execution_count": 12,
   "metadata": {
    "collapsed": true
   },
   "outputs": [],
   "source": [
    "y_train = train['price_doc']\n",
    "train.drop(['pps_mean','pps_std','sa_mean','prize_per_sqrmtr','price_doc'], axis=1, inplace=True)"
   ]
  },
  {
   "cell_type": "code",
   "execution_count": 13,
   "metadata": {
    "collapsed": true
   },
   "outputs": [],
   "source": [
    "all_data = pd.concat([train, test])"
   ]
  },
  {
   "cell_type": "code",
   "execution_count": 14,
   "metadata": {
    "collapsed": true
   },
   "outputs": [],
   "source": [
    "# cleaning life_sq\n",
    "all_data.loc[(all_data.life_sq.isnull()) | (all_data.life_sq<6) | (all_data.life_sq>all_data.full_sq) | (all_data.life_sq>224),\"life_sq\"] =all_data[(all_data.life_sq.isnull()) | (all_data.life_sq<6) | (all_data.life_sq>all_data.full_sq) | (all_data.life_sq>224)].full_sq/1.66"
   ]
  },
  {
   "cell_type": "code",
   "execution_count": 15,
   "metadata": {
    "collapsed": true
   },
   "outputs": [],
   "source": [
    "# cleaning floor. Doesn't make sense to clean floor. It is possible same building get different floors\n",
    "all_data.loc[(all_data.floor>48),\"floor\"]=np.NaN"
   ]
  },
  {
   "cell_type": "code",
   "execution_count": 16,
   "metadata": {
    "collapsed": true
   },
   "outputs": [],
   "source": [
    "# cleaning max_floor\n",
    "g_Apartment_col=all_data.groupby('apartment_name')['floor'].agg(['max']).reset_index()\n",
    "g_Apartment_col.columns= ['apartment_name','apartment_floor_max'] \n",
    "all_data=all_data.merge(g_Apartment_col, how='left',on='apartment_name')\n",
    "# clean null or very high max_floor values, where apartment count is atleast 4\n",
    "all_data.loc[((all_data.max_floor.isnull()) | (all_data.max_floor>48)) & (all_data.apartment_count>3),\"max_floor\"] = all_data[((all_data.max_floor.isnull()) | (all_data.max_floor>48)) & (all_data.apartment_count>3)].apartment_floor_max\n",
    "all_data.drop(['apartment_floor_max'], axis=1, inplace=True)"
   ]
  },
  {
   "cell_type": "code",
   "execution_count": 17,
   "metadata": {
    "collapsed": false
   },
   "outputs": [],
   "source": [
    "# cleaning build_year : Same apartment will most likely have same build year\n",
    "g_Apartment_col=all_data.groupby('apartment_name')['build_year'].agg(['median']).reset_index()\n",
    "g_Apartment_col.columns= ['apartment_name','byear_mean']\n",
    "all_data=all_data.merge( g_Apartment_col, how='left', on='apartment_name')\n",
    "all_data.loc[(all_data.build_year<1950) | (all_data.build_year>2020)|(all_data.build_year.isnull()) , \"build_year\"]=all_data[(all_data.build_year<1950) | (all_data.build_year>2020)|(all_data.build_year.isnull())].byear_mean\n",
    "all_data.drop(['byear_mean'], axis=1, inplace=True)"
   ]
  },
  {
   "cell_type": "code",
   "execution_count": 18,
   "metadata": {
    "collapsed": false
   },
   "outputs": [],
   "source": [
    "# cleaning num_room : if same apartment and same size then most likely number of room will be same\n",
    "g_Apartment_col=all_data.groupby(['apartment_name','full_sq'])['num_room'].agg(['median']).reset_index()\n",
    "g_Apartment_col.columns= ['apartment_name','full_sq','nrmedian']\n",
    "all_data=pd.merge( all_data,g_Apartment_col, how='left', on=['apartment_name','full_sq'])\n",
    "all_data.loc[((all_data.num_room>=7) & (all_data.full_sq<100)) | (all_data.num_room==0) | (all_data.num_room.isnull()),\"num_room\"]=all_data[((all_data.num_room>=7) & (all_data.full_sq<100)) | (all_data.num_room==0) | (all_data.num_room.isnull())].nrmedian\n",
    "all_data.drop(['nrmedian'], axis=1, inplace=True)"
   ]
  },
  {
   "cell_type": "code",
   "execution_count": 19,
   "metadata": {
    "collapsed": false
   },
   "outputs": [],
   "source": [
    "all_data['rel_kitch_sq'] = all_data['kitch_sq'] / all_data['life_sq'].astype(float)"
   ]
  },
  {
   "cell_type": "code",
   "execution_count": 20,
   "metadata": {
    "collapsed": false
   },
   "outputs": [],
   "source": [
    "# cleaning kitch_sq\n",
    "g_Apartment_col=all_data.groupby(['apartment_name','full_sq'])['rel_kitch_sq'].agg(['median']).reset_index()\n",
    "g_Apartment_col.columns= ['apartment_name','full_sq','rksmedian']\n",
    "all_data=pd.merge(all_data, g_Apartment_col, how='left', on=['apartment_name','full_sq'])\n",
    "all_data.loc[((all_data.rel_kitch_sq>1) | (all_data.kitch_sq==0) |(all_data.kitch_sq>60) | (all_data.kitch_sq.isnull())) & (all_data.apartment_count>=5),\"kitch_sq\" ]=all_data[((all_data.rel_kitch_sq>1) | (all_data.kitch_sq==0) |(all_data.kitch_sq>60) | (all_data.kitch_sq.isnull())) & (all_data.apartment_count>=5)].life_sq * all_data[((all_data.rel_kitch_sq>1) | (all_data.kitch_sq==0) |(all_data.kitch_sq>60) | (all_data.kitch_sq.isnull())) & (all_data.apartment_count>=5)].rksmedian\n",
    "all_data.loc[(all_data.rel_kitch_sq>1) | (all_data.kitch_sq==0) |(all_data.kitch_sq>60) | (all_data.kitch_sq.isnull()),\"kitch_sq\"]=all_data[(all_data.rel_kitch_sq>1) | (all_data.kitch_sq==0) |(all_data.kitch_sq>60) | (all_data.kitch_sq.isnull())].life_sq * 0.23\n",
    "all_data.drop(['rksmedian'], axis=1, inplace=True)"
   ]
  },
  {
   "cell_type": "code",
   "execution_count": 21,
   "metadata": {
    "collapsed": true
   },
   "outputs": [],
   "source": [
    "# cleaning state\n",
    "g_Apartment_col=all_data[all_data.state>=0].groupby('apartment_name')['state'].agg(['median','mean']).reset_index()\n",
    "g_Apartment_col.columns= ['apartment_name','state_median','state_mean']\n",
    "all_data=pd.merge(all_data, g_Apartment_col, how='left', on='apartment_name')"
   ]
  },
  {
   "cell_type": "code",
   "execution_count": 22,
   "metadata": {
    "collapsed": true
   },
   "outputs": [],
   "source": [
    "all_data.loc[((all_data.state.isnull())|(all_data.state>4))&(all_data.apartment_count>=5)&(all_data.state_median>=0) ,\"state\"]=all_data[((all_data.state.isnull())|(all_data.state>4))&(all_data.apartment_count>=5) & (all_data.state_median>=0)].state_median.astype(int)\n",
    "all_data.drop(['state_median'], axis=1, inplace=True)\n",
    "all_data.drop(['state_mean'], axis=1, inplace=True)"
   ]
  },
  {
   "cell_type": "code",
   "execution_count": 23,
   "metadata": {
    "collapsed": true
   },
   "outputs": [],
   "source": [
    "# cleaning material\n",
    "g_Apartment_col=all_data[all_data.material>=0].groupby('apartment_name')['material'].agg(['median','mean']).reset_index()\n",
    "g_Apartment_col.columns= ['apartment_name','mat_median','mat_mean']\n",
    "all_data=pd.merge(all_data, g_Apartment_col, how='left', on='apartment_name')\n",
    "all_data.loc[((all_data.material.isnull())|(all_data.material>6))&(all_data.apartment_count>=5)&(all_data.mat_median>=0) ,\"material\"]=all_data[((all_data.material.isnull())|(all_data.material>6))&(all_data.apartment_count>=5) & (all_data.mat_median>=0)].mat_median.astype(int)\n",
    "all_data.drop(['mat_median'], axis=1, inplace=True)\n",
    "all_data.drop(['mat_mean'], axis=1, inplace=True)\n",
    "all_data.drop(['apartment_name'], axis=1, inplace=True)"
   ]
  },
  {
   "cell_type": "code",
   "execution_count": 24,
   "metadata": {
    "collapsed": true
   },
   "outputs": [],
   "source": [
    "all_data['rel_floor'] = all_data['floor'] / all_data['max_floor'].astype(float)\n",
    "all_data['rel_kitch_sq'] = all_data['kitch_sq'] / all_data['full_sq'].astype(float)"
   ]
  },
  {
   "cell_type": "code",
   "execution_count": 25,
   "metadata": {
    "collapsed": true
   },
   "outputs": [],
   "source": [
    "all_data = pd.get_dummies(all_data, columns = ['sub_area'])"
   ]
  },
  {
   "cell_type": "code",
   "execution_count": 26,
   "metadata": {
    "collapsed": true
   },
   "outputs": [],
   "source": [
    "from sklearn import preprocessing \n",
    "#convert objects / non-numeric data types into numeric\n",
    "for f in all_data.columns:\n",
    "    if all_data[f].dtype=='object':\n",
    "        lbl = preprocessing.LabelEncoder()\n",
    "        lbl.fit(list(all_data[f].values)) \n",
    "        all_data[f] = lbl.transform(list(all_data[f].values))"
   ]
  },
  {
   "cell_type": "code",
   "execution_count": 27,
   "metadata": {
    "collapsed": true
   },
   "outputs": [],
   "source": [
    "X_train = all_data[:num_train]\n",
    "X_test = all_data[num_train:]\n",
    "\n",
    "df_columns = all_data.columns"
   ]
  },
  {
   "cell_type": "code",
   "execution_count": 28,
   "metadata": {
    "collapsed": false
   },
   "outputs": [
    {
     "name": "stdout",
     "output_type": "stream",
     "text": [
      "[0]\ttrain-rmse:8.19119e+06\ttest-rmse:8.19683e+06\n",
      "[20]\ttrain-rmse:3.89027e+06\ttest-rmse:4.00976e+06\n",
      "[40]\ttrain-rmse:2.69579e+06\ttest-rmse:2.94591e+06\n",
      "[60]\ttrain-rmse:2.38291e+06\ttest-rmse:2.70474e+06\n",
      "[80]\ttrain-rmse:2.27516e+06\ttest-rmse:2.63543e+06\n",
      "[100]\ttrain-rmse:2.21366e+06\ttest-rmse:2.60394e+06\n",
      "[120]\ttrain-rmse:2.16936e+06\ttest-rmse:2.58737e+06\n",
      "[140]\ttrain-rmse:2.13251e+06\ttest-rmse:2.5713e+06\n",
      "[160]\ttrain-rmse:2.10157e+06\ttest-rmse:2.56092e+06\n",
      "[180]\ttrain-rmse:2.07347e+06\ttest-rmse:2.55216e+06\n",
      "[200]\ttrain-rmse:2.04806e+06\ttest-rmse:2.5466e+06\n",
      "[220]\ttrain-rmse:2.02238e+06\ttest-rmse:2.54037e+06\n",
      "[240]\ttrain-rmse:1.99978e+06\ttest-rmse:2.53416e+06\n",
      "[260]\ttrain-rmse:1.97365e+06\ttest-rmse:2.52875e+06\n",
      "[280]\ttrain-rmse:1.95053e+06\ttest-rmse:2.52457e+06\n",
      "[300]\ttrain-rmse:1.92939e+06\ttest-rmse:2.51934e+06\n",
      "[320]\ttrain-rmse:1.91042e+06\ttest-rmse:2.51667e+06\n",
      "[340]\ttrain-rmse:1.89093e+06\ttest-rmse:2.51468e+06\n",
      "[360]\ttrain-rmse:1.8739e+06\ttest-rmse:2.51395e+06\n",
      "[380]\ttrain-rmse:1.85594e+06\ttest-rmse:2.51088e+06\n",
      "[400]\ttrain-rmse:1.83737e+06\ttest-rmse:2.50873e+06\n",
      "[420]\ttrain-rmse:1.81935e+06\ttest-rmse:2.50755e+06\n",
      "[440]\ttrain-rmse:1.79873e+06\ttest-rmse:2.5045e+06\n",
      "[460]\ttrain-rmse:1.78194e+06\ttest-rmse:2.50191e+06\n",
      "[480]\ttrain-rmse:1.76757e+06\ttest-rmse:2.50075e+06\n",
      "[500]\ttrain-rmse:1.75139e+06\ttest-rmse:2.49929e+06\n",
      "[520]\ttrain-rmse:1.73748e+06\ttest-rmse:2.49714e+06\n",
      "[540]\ttrain-rmse:1.72293e+06\ttest-rmse:2.49679e+06\n",
      "[560]\ttrain-rmse:1.70821e+06\ttest-rmse:2.49627e+06\n"
     ]
    }
   ],
   "source": [
    "xgb_params = {\n",
    "    'eta': 0.05,\n",
    "    'max_depth': 5,\n",
    "    'subsample': 0.7,\n",
    "    'colsample_bytree': 0.7,\n",
    "    'objective': 'reg:linear',\n",
    "    'eval_metric': 'rmse',\n",
    "    'silent': 1,\n",
    "    'booster' :'gbtree',\n",
    "    'tuneLength': 3,\n",
    "    'min_child_weight' : 17\n",
    "}\n",
    "\n",
    "dtrain = xgb.DMatrix(X_train, y_train, feature_names=df_columns)\n",
    "dtest = xgb.DMatrix(X_test, feature_names=df_columns)\n",
    "\n",
    "cv_result = xgb.cv(xgb_params, dtrain, num_boost_round=1000, early_stopping_rounds=20,\n",
    "    verbose_eval=20, show_stdv=False)"
   ]
  },
  {
   "cell_type": "code",
   "execution_count": 29,
   "metadata": {
    "collapsed": true
   },
   "outputs": [],
   "source": [
    "num_boost_rounds = len(cv_result)"
   ]
  },
  {
   "cell_type": "code",
   "execution_count": 30,
   "metadata": {
    "collapsed": true
   },
   "outputs": [],
   "source": [
    "model = xgb.train(dict(xgb_params, silent=0), dtrain, num_boost_round=num_boost_rounds)"
   ]
  },
  {
   "cell_type": "code",
   "execution_count": 31,
   "metadata": {
    "collapsed": true
   },
   "outputs": [],
   "source": [
    "%matplotlib inline"
   ]
  },
  {
   "cell_type": "code",
   "execution_count": 32,
   "metadata": {
    "collapsed": false
   },
   "outputs": [
    {
     "data": {
      "text/plain": [
       "<matplotlib.axes._subplots.AxesSubplot at 0x2bb27f6d2b0>"
      ]
     },
     "execution_count": 32,
     "metadata": {},
     "output_type": "execute_result"
    },
    {
     "data": {
      "image/png": "[encoded data removed]",
      "text/plain": [
       "<matplotlib.figure.Figure at 0x2bb27f7db38>"
      ]
     },
     "metadata": {},
     "output_type": "display_data"
    }
   ],
   "source": [
    "fig, ax = plt.subplots(1, 1, figsize=(8, 16))\n",
    "xgb.plot_importance(model, max_num_features=50, height=0.5, ax=ax)"
   ]
  },
  {
   "cell_type": "code",
   "execution_count": 33,
   "metadata": {
    "collapsed": true
   },
   "outputs": [],
   "source": [
    "y_pred = model.predict(dtest)"
   ]
  },
  {
   "cell_type": "code",
   "execution_count": 34,
   "metadata": {
    "collapsed": false
   },
   "outputs": [],
   "source": [
    "df_sub = pd.DataFrame({'id': id_test, 'price_doc': y_pred })\n",
    "df_sub.to_csv('subxgb.csv', index=False)"
   ]
  },
  {
   "cell_type": "code",
   "execution_count": null,
   "metadata": {
    "collapsed": true
   },
   "outputs": [],
   "source": []
  }
 ],
 "metadata": {
  "kernelspec": {
   "display_name": "Python 3",
   "language": "python",
   "name": "python3"
  },
  "language_info": {
   "codemirror_mode": {
    "name": "ipython",
    "version": 3
   },
   "file_extension": ".py",
   "mimetype": "text/x-python",
   "name": "python",
   "nbconvert_exporter": "python",
   "pygments_lexer": "ipython3",
   "version": "3.6.0"
  }
 },
 "nbformat": 4,
 "nbformat_minor": 2
}
